{
 "cells": [
  {
   "cell_type": "markdown",
   "metadata": {},
   "source": [
    "### Преобразование числовых значений в шкалы"
   ]
  },
  {
   "cell_type": "code",
   "execution_count": 1,
   "metadata": {},
   "outputs": [],
   "source": [
    "import pandas as pd\n",
    "import math\n",
    "from operator import itemgetter\n",
    "import numpy as np"
   ]
  },
  {
   "cell_type": "code",
   "execution_count": 2,
   "metadata": {},
   "outputs": [],
   "source": [
    "data = pd.read_csv('data.csv')"
   ]
  },
  {
   "cell_type": "code",
   "execution_count": 3,
   "metadata": {},
   "outputs": [],
   "source": [
    "data = data.drop(columns=['Unnamed: 0', 'index']).reset_index()"
   ]
  },
  {
   "cell_type": "code",
   "execution_count": null,
   "metadata": {},
   "outputs": [],
   "source": [
    "for x in data.columns:\n",
    "    print(x, data[x].unique())\n",
    "    print('\\n\\n',60*'-', '\\n\\n')"
   ]
  },
  {
   "cell_type": "code",
   "execution_count": null,
   "metadata": {},
   "outputs": [],
   "source": [
    "data.loc[data['Цена']<=1000000] # Бюджетные \n",
    "data.loc[(data['Цена']>1000000) & (data['Цена']<=2000000)] # Средняя цена\n",
    "data.loc[(data['Цена']>2000000) & (data['Цена']<=4000000)] # Дорогие\n",
    "data.loc[data['Цена']>4000000] # Очень дорогие"
   ]
  },
  {
   "cell_type": "code",
   "execution_count": null,
   "metadata": {},
   "outputs": [],
   "source": [
    "data.loc[data['Длина']<=4400] # Очень короткие\n",
    "data.loc[(data['Длина']>4400) & (data['Длина']<=4800)] # Короткие\n",
    "data.loc[(data['Длина']>4800) & (data['Длина']<=5000)] # Средней длинны\n",
    "data.loc[(data['Длина']>5000)] # Длинные"
   ]
  },
  {
   "cell_type": "code",
   "execution_count": null,
   "metadata": {},
   "outputs": [],
   "source": [
    "data.loc[data['Ширина']<=1500] # Узкие\n",
    "data.loc[(data['Ширина']>1500) & (data['Ширина']<=2000)] # Средней ширины\n",
    "data.loc[(data['Ширина']>2000)] # Широкие"
   ]
  },
  {
   "cell_type": "code",
   "execution_count": null,
   "metadata": {},
   "outputs": [],
   "source": [
    "data.loc[data['Высота']<=1400] # Низкие\n",
    "data.loc[(data['Высота']>1400) & (data['Высота']<=1450)] # Средней высоты\n",
    "data.loc[(data['Высота']>1450) & (data['Высота']<=1700)] # Средней высоты\n",
    "data.loc[(data['Высота']>1700)] # Высокие"
   ]
  },
  {
   "cell_type": "code",
   "execution_count": null,
   "metadata": {},
   "outputs": [],
   "source": [
    "data.loc[data['Объём топливного бака, л']<=45] # Маленький бак\n",
    "data.loc[(data['Объём топливного бака, л']>45) & (data['Объём топливного бака, л']<=55)] # Средний бак\n",
    "data.loc[(data['Объём топливного бака, л']>55) & (data['Объём топливного бака, л']<=65)] # Средний бак\n",
    "data.loc[(data['Объём топливного бака, л']>65)] # Большой бак"
   ]
  },
  {
   "cell_type": "code",
   "execution_count": null,
   "metadata": {},
   "outputs": [],
   "source": [
    "data.loc[data['Максимальная скорость, км/ч']<=180] # Медленные\n",
    "data.loc[(data['Максимальная скорость, км/ч']>180) & (data['Максимальная скорость, км/ч']<=220)] # Обычные\n",
    "data.loc[(data['Максимальная скорость, км/ч']>220)] # Быстрые"
   ]
  },
  {
   "cell_type": "code",
   "execution_count": null,
   "metadata": {},
   "outputs": [],
   "source": [
    "data.loc[data['Разгон до 100 км/ч, с']>=11] # Медленные\n",
    "data.loc[(data['Разгон до 100 км/ч, с']<11) & (data['Разгон до 100 км/ч, с']>7)] # Обычные\n",
    "data.loc[(data['Разгон до 100 км/ч, с']<=7)] # Быстрые"
   ]
  },
  {
   "cell_type": "code",
   "execution_count": null,
   "metadata": {},
   "outputs": [],
   "source": [
    "data.loc[data['Выбросы CO2, г/км']<=120] # Экологичные\n",
    "data.loc[(data['Выбросы CO2, г/км']>120) & (data['Выбросы CO2, г/км']<=170)] # Обычные\n",
    "data.loc[(data['Выбросы CO2, г/км']>170)] # Не экологичные"
   ]
  },
  {
   "cell_type": "code",
   "execution_count": null,
   "metadata": {},
   "outputs": [],
   "source": [
    "data.loc[data['Объем двигателя, см³']<=1600] # Малолитражные\n",
    "data.loc[(data['Объем двигателя, см³']>1600) & (data['Объем двигателя, см³']<=2200)] # Обычные\n",
    "data.loc[(data['Объем двигателя, см³']>2200) & (data['Объем двигателя, см³']<=3000)] # Большие\n",
    "data.loc[(data['Объем двигателя, см³']>3000)] # Очень большие"
   ]
  },
  {
   "cell_type": "code",
   "execution_count": null,
   "metadata": {},
   "outputs": [],
   "source": [
    "data.loc[data['Клиренс']<=130] # Низкая посадка\n",
    "data.loc[(data['Клиренс']>130) & (data['Клиренс']<=160)] # Обычная посадка\n",
    "data.loc[(data['Клиренс']>160) & (data['Клиренс']<=200)] # Высокая посадка\n",
    "data.loc[(data['Клиренс']>200)] # Очень высокая посадка"
   ]
  },
  {
   "cell_type": "code",
   "execution_count": null,
   "metadata": {},
   "outputs": [],
   "source": [
    "data.loc[data['Расход топлива, л смешанный']<=5] # Очень маленький расход\n",
    "data.loc[(data['Расход топлива, л смешанный']>5) & (data['Расход топлива, л смешанный']<=7)] # Обычный расход\n",
    "data.loc[(data['Расход топлива, л смешанный']>7) & (data['Расход топлива, л смешанный']<=10)] # Большой расход\n",
    "data.loc[(data['Расход топлива, л смешанный']>10)] # Очень большой расход"
   ]
  },
  {
   "cell_type": "code",
   "execution_count": null,
   "metadata": {},
   "outputs": [],
   "source": [
    "data.loc[data['Объем багажника макс, л']<=450] # Маленький багажник\n",
    "data.loc[(data['Объем багажника макс, л']>450) & (data['Объем багажника макс, л']<=1000)] # Обычный багажник\n",
    "data.loc[(data['Объем багажника макс, л']>1000) & (data['Объем багажника макс, л']<=1600)] # Большой багажник\n",
    "data.loc[(data['Объем багажника макс, л']>1600)] # Очень большой багажник"
   ]
  },
  {
   "cell_type": "code",
   "execution_count": 16,
   "metadata": {},
   "outputs": [],
   "source": [
    "for index in range(data.shape[0]):\n",
    "    if isinstance(data.at[index, 'Клиренс'], str):\n",
    "        if data.at[index, 'Клиренс'].__contains__(','):\n",
    "            data.at[index, 'Клиренс'] =float(data.at[index, 'Клиренс'].split(',')[0])\n",
    "        data.at[index, 'Клиренс'] =float(data.at[index, 'Клиренс'])"
   ]
  },
  {
   "cell_type": "code",
   "execution_count": 17,
   "metadata": {},
   "outputs": [],
   "source": [
    "for index in range(data.shape[0]):\n",
    "    if isinstance(data.at[index, 'Объем багажника макс, л'], str):\n",
    "        if data.at[index, 'Объем багажника макс, л'].__contains__('-'):\n",
    "            data.at[index, 'Объем багажника макс, л'] = data.at[index, 'Объем багажника макс, л'].split('-')[0]\n",
    "for index in range(data.shape[0]):\n",
    "    if data.at[index, 'Объем багажника макс, л'] == '':\n",
    "        data.at[index, 'Объем багажника макс, л'] = float('nan')\n",
    "data['Объем багажника макс, л'] = data['Объем багажника макс, л'].astype(float)"
   ]
  },
  {
   "cell_type": "code",
   "execution_count": 18,
   "metadata": {},
   "outputs": [],
   "source": [
    "for index in range(data.shape[0]):\n",
    "    \n",
    "    if not math.isnan(data.at[index, 'Цена']):\n",
    "        if data.at[index, 'Цена'] <= 1000000:\n",
    "            data.at[index, 'knn_цена'] = 1\n",
    "        elif data.at[index, 'Цена']>1000000 and data.at[index, 'Цена']<=2000000:\n",
    "            data.at[index, 'knn_цена'] = 2\n",
    "        elif data.at[index, 'Цена']>2000000 and data.at[index, 'Цена']<=4000000:\n",
    "            data.at[index, 'knn_цена'] = 3\n",
    "        elif data.at[index, 'Цена']>4000000:\n",
    "            data.at[index, 'knn_цена'] = 4\n",
    "    else:\n",
    "        data.at[index, 'knn_цена'] = 0\n",
    "        \n",
    "    \n",
    "    if not math.isnan(data.at[index, 'Длина']):\n",
    "        if data.at[index, 'Длина'] <= 4400:\n",
    "            data.at[index, 'knn_длина'] = 1\n",
    "        elif data.at[index, 'Длина']>4400 and data.at[index, 'Длина']<=4800:\n",
    "            data.at[index, 'knn_длина'] = 2\n",
    "        elif data.at[index, 'Длина']>4800 and data.at[index, 'Длина']<=5000:\n",
    "            data.at[index, 'knn_длина'] = 3\n",
    "        elif data.at[index, 'Длина']>5000:\n",
    "            data.at[index, 'knn_длина'] = 4\n",
    "    else:\n",
    "        data.at[index, 'knn_длина'] = 0\n",
    "        \n",
    "    if not math.isnan(data.at[index, 'Ширина']):\n",
    "        if data.at[index, 'Ширина'] <= 1500:\n",
    "            data.at[index, 'knn_ширина'] = 1\n",
    "        elif data.at[index, 'Ширина']>1500 and data.at[index, 'Ширина']<=2000:\n",
    "            data.at[index, 'knn_ширина'] = 2\n",
    "        elif data.at[index, 'Ширина']>2000:\n",
    "            data.at[index, 'knn_ширина'] = 3\n",
    "    else:\n",
    "        data.at[index, 'knn_ширина'] = 0\n",
    "        \n",
    "    if not math.isnan(data.at[index, 'Высота']):\n",
    "        if data.at[index, 'Высота'] <= 1400:\n",
    "            data.at[index, 'knn_высота'] = 1\n",
    "        elif data.at[index, 'Высота']>1400 and data.at[index, 'Высота']<=1450:\n",
    "            data.at[index, 'knn_высота'] = 2\n",
    "        elif data.at[index, 'Высота']>1450 and data.at[index, 'Высота']<=1700:\n",
    "            data.at[index, 'knn_высота'] = 3\n",
    "        elif data.at[index, 'Высота']>1700:\n",
    "            data.at[index, 'knn_высота'] = 4\n",
    "    else:\n",
    "        data.at[index, 'knn_высота'] = 0\n",
    "\n",
    "    if not math.isnan(data.at[index, 'Объём топливного бака, л']):\n",
    "        if data.at[index, 'Объём топливного бака, л'] <= 45:\n",
    "            data.at[index, 'knn_бак'] = 1\n",
    "        elif data.at[index, 'Объём топливного бака, л']>45 and data.at[index, 'Объём топливного бака, л']<=55:\n",
    "            data.at[index, 'knn_бак'] = 2\n",
    "        elif data.at[index, 'Объём топливного бака, л']>55 and data.at[index, 'Объём топливного бака, л']<=65:\n",
    "            data.at[index, 'knn_бак'] = 3\n",
    "        elif data.at[index, 'Объём топливного бака, л']>65:\n",
    "            data.at[index, 'knn_бак'] = 4\n",
    "    else:\n",
    "        data.at[index, 'knn_бак'] = 0\n",
    "    \n",
    "    if not math.isnan(data.at[index, 'Максимальная скорость, км/ч']):\n",
    "        if data.at[index, 'Максимальная скорость, км/ч'] <= 180:\n",
    "            data.at[index, 'knn_скорость'] = 1\n",
    "        elif data.at[index, 'Максимальная скорость, км/ч']>180 and data.at[index, 'Максимальная скорость, км/ч']<=220:\n",
    "            data.at[index, 'knn_скорость'] = 2\n",
    "        elif data.at[index, 'Максимальная скорость, км/ч']>220:\n",
    "            data.at[index, 'knn_скорость'] = 3\n",
    "    else:\n",
    "        data.at[index, 'knn_скорость'] = 0  \n",
    "        \n",
    "    if not math.isnan(data.at[index, 'Разгон до 100 км/ч, с']):\n",
    "        if data.at[index, 'Разгон до 100 км/ч, с'] >= 11:\n",
    "            data.at[index, 'knn_разгон'] = 1\n",
    "        elif data.at[index, 'Разгон до 100 км/ч, с']<11 and data.at[index, 'Разгон до 100 км/ч, с']>7:\n",
    "            data.at[index, 'knn_разгон'] = 2\n",
    "        elif data.at[index, 'Разгон до 100 км/ч, с'] <=7:\n",
    "            data.at[index, 'knn_разгон'] = 3\n",
    "    else:\n",
    "        data.at[index, 'knn_разгон'] = 0\n",
    "        \n",
    "    if not math.isnan(data.at[index, 'Выбросы CO2, г/км']):\n",
    "        if data.at[index, 'Выбросы CO2, г/км'] <= 120:\n",
    "            data.at[index, 'knn_выбросы'] = 1\n",
    "        elif data.at[index, 'Выбросы CO2, г/км']>120 and data.at[index, 'Выбросы CO2, г/км']<=170:\n",
    "            data.at[index, 'knn_выбросы'] = 2\n",
    "        elif data.at[index, 'Выбросы CO2, г/км']>170:\n",
    "            data.at[index, 'knn_выбросы'] = 3\n",
    "    else:\n",
    "        data.at[index, 'knn_выбросы'] = 0\n",
    "  \n",
    "    if not math.isnan(data.at[index, 'Объем двигателя, см³']):\n",
    "        if data.at[index, 'Объем двигателя, см³'] <= 1600:\n",
    "            data.at[index, 'knn_двигатель'] = 1\n",
    "        elif data.at[index, 'Объем двигателя, см³']>1600 and data.at[index, 'Объем двигателя, см³']<=2200:\n",
    "            data.at[index, 'knn_двигатель'] = 2\n",
    "        elif data.at[index, 'Объем двигателя, см³']>2200 and data.at[index, 'Объем двигателя, см³']<=3000:\n",
    "            data.at[index, 'knn_двигатель'] = 3\n",
    "        elif data.at[index, 'Объем двигателя, см³']>3000:\n",
    "            data.at[index, 'knn_двигатель'] = 4\n",
    "    else:\n",
    "        data.at[index, 'knn_двигатель'] = 0\n",
    "        \n",
    "    if not math.isnan(data.at[index, 'Клиренс']):\n",
    "        if data.at[index, 'Клиренс'] <= 130:\n",
    "            data.at[index, 'knn_клиренс'] = 1\n",
    "        elif data.at[index, 'Клиренс']>130 and data.at[index, 'Клиренс']<=160:\n",
    "            data.at[index, 'knn_клиренс'] = 2\n",
    "        elif data.at[index, 'Клиренс']>160 and data.at[index, 'Клиренс']<=200:\n",
    "            data.at[index, 'knn_клиренс'] = 3\n",
    "        elif data.at[index, 'Клиренс']>200:\n",
    "            data.at[index, 'knn_клиренс'] = 4\n",
    "    else:\n",
    "        data.at[index, 'knn_клиренс'] = 0\n",
    "        \n",
    "        \n",
    "    if not math.isnan(data.at[index, 'Расход топлива, л смешанный']):\n",
    "        if data.at[index, 'Расход топлива, л смешанный'] <= 5:\n",
    "            data.at[index, 'knn_расход'] = 1\n",
    "        elif data.at[index, 'Расход топлива, л смешанный']>5 and data.at[index, 'Расход топлива, л смешанный']<=7:\n",
    "            data.at[index, 'knn_расход'] = 2\n",
    "        elif data.at[index, 'Расход топлива, л смешанный']>7 and data.at[index, 'Расход топлива, л смешанный']<=10:\n",
    "            data.at[index, 'knn_расход'] = 3\n",
    "        elif data.at[index, 'Расход топлива, л смешанный']>10:\n",
    "            data.at[index, 'knn_расход'] = 4\n",
    "    else:\n",
    "        data.at[index, 'knn_расход'] = 0\n",
    "        \n",
    "    if not math.isnan(data.at[index, 'Объем багажника макс, л']):\n",
    "        if data.at[index, 'Объем багажника макс, л'] <= 450:\n",
    "            data.at[index, 'knn_багажник'] = 1\n",
    "        elif data.at[index, 'Объем багажника макс, л']>450 and data.at[index, 'Объем багажника макс, л']<=1000:\n",
    "            data.at[index, 'knn_багажник'] = 2\n",
    "        elif data.at[index, 'Объем багажника макс, л']>1000 and data.at[index, 'Объем багажника макс, л']<=1600:\n",
    "            data.at[index, 'knn_багажник'] = 3\n",
    "        elif data.at[index, 'Объем багажника макс, л']>1600:\n",
    "            data.at[index, 'knn_багажник'] = 4\n",
    "    else:\n",
    "        data.at[index, 'knn_багажник'] = 0\n"
   ]
  },
  {
   "cell_type": "code",
   "execution_count": 19,
   "metadata": {},
   "outputs": [],
   "source": [
    "a = pd.get_dummies(data[['Тип наддува']], prefix='knn_наддув')\n",
    "b = pd.get_dummies(data[['Страна марки']], prefix='knn_страна')\n",
    "c = pd.get_dummies(data[['Коробка передач']], prefix='knn_коробка')\n",
    "d = pd.get_dummies(data[['Тип привода']], prefix='knn_привод')\n",
    "e = pd.get_dummies(data[['Тип двигателя']], prefix='knn_тип_двигателя')\n",
    "f = pd.get_dummies(data[['Класс автомобиля']], prefix='knn_класс')\n",
    "g = pd.get_dummies(data[['Экологический класс']], prefix='knn_эко')\n",
    "data = pd.concat([data, a, b, c, d, e, f, g], axis=1, sort=False)"
   ]
  },
  {
   "cell_type": "code",
   "execution_count": 21,
   "metadata": {},
   "outputs": [],
   "source": [
    "data.to_csv('data1.csv')"
   ]
  }
 ],
 "metadata": {
  "kernelspec": {
   "display_name": "Python 3",
   "language": "python",
   "name": "python3"
  },
  "language_info": {
   "codemirror_mode": {
    "name": "ipython",
    "version": 3
   },
   "file_extension": ".py",
   "mimetype": "text/x-python",
   "name": "python",
   "nbconvert_exporter": "python",
   "pygments_lexer": "ipython3",
   "version": "3.7.6"
  }
 },
 "nbformat": 4,
 "nbformat_minor": 4
}
