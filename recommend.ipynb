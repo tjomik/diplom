{
 "cells": [
  {
   "cell_type": "markdown",
   "metadata": {},
   "source": [
    "## Составление рекомендаций"
   ]
  },
  {
   "cell_type": "code",
   "execution_count": 1,
   "metadata": {},
   "outputs": [],
   "source": [
    "import pandas as pd\n",
    "import math\n",
    "from operator import itemgetter\n",
    "import numpy as np\n",
    "import ast\n",
    "import json"
   ]
  },
  {
   "cell_type": "code",
   "execution_count": 2,
   "metadata": {},
   "outputs": [
    {
     "name": "stderr",
     "output_type": "stream",
     "text": [
      "/home/karenix/anaconda3/lib/python3.7/site-packages/IPython/core/interactiveshell.py:3063: DtypeWarning: Columns (119) have mixed types.Specify dtype option on import or set low_memory=False.\n",
      "  interactivity=interactivity, compiler=compiler, result=result)\n"
     ]
    }
   ],
   "source": [
    "data = pd.read_csv('data1.csv')"
   ]
  },
  {
   "cell_type": "code",
   "execution_count": 3,
   "metadata": {},
   "outputs": [],
   "source": [
    "def eucl_dist(x1, x2):\n",
    "    return sum([(x1i - x2i) ** 2 for x1i, x2i in zip (x1, x2)])\n",
    "\n",
    "def manh_dist(x1, x2):\n",
    "    return sum(abs(x1i - x2i) for x1i, x2i in zip(x1, x2))            \n",
    "\n",
    "def recommend(data, car_modificaton, columns_for_dist, mode):\n",
    "    neighbors_list = []\n",
    "    for index in range(data.shape[0]):\n",
    "        data_train_current_x = [x for x in data[columns_for_dist].iloc[index]]\n",
    "        if mode == 'eucl':\n",
    "            dist = eucl_dist([x for x in car_modificaton[columns_for_dist]], data_train_current_x)\n",
    "        elif mode == 'manh':\n",
    "            dist = manh_dist([x for x in car_modificaton[columns_for_dist]], data_train_current_x)\n",
    "        temp_res = (dist, index, data_train_current_x)\n",
    "        neighbors_list.append(temp_res)    \n",
    "    \n",
    "    neighbors_list_sorted = sorted(neighbors_list, key=itemgetter(0))\n",
    "    \n",
    "    real_neighbors_list = []\n",
    "    already_added = []\n",
    "    \n",
    "    for x in neighbors_list_sorted:\n",
    "        if not data['Марка'].iloc[x[1]] == car_modificaton['Марка'] and not data['Модель'].iloc[x[1]] == car_modificaton['Модель'] and (data['Марка'].iloc[x[1]], data['Модель'].iloc[x[1]]) not in already_added:\n",
    "            real_neighbors_list.append(x[1])\n",
    "            already_added.append((data['Марка'].iloc[x[1]], data['Модель'].iloc[x[1]]))\n",
    "        if len(real_neighbors_list) == 5:\n",
    "            break\n",
    "    return real_neighbors_list"
   ]
  },
  {
   "cell_type": "code",
   "execution_count": 4,
   "metadata": {},
   "outputs": [],
   "source": [
    "columns = [ \"knn_цена\", \"knn_длина\", \"knn_ширина\",\"knn_высота\", \"knn_бак\",\"knn_скорость\",\"knn_разгон\",\"knn_выбросы\",\n",
    "\"knn_двигатель\",\"knn_клиренс\", \"knn_багажник\",\"knn_расход\", \"knn_наддув_компрессор\",\"knn_наддув_нет\", \n",
    "\"knn_наддув_турбонаддув\",\"knn_страна_Австрия\", \"knn_страна_Великобритания\",\"knn_страна_Германия\", \"knn_страна_Дания\",\n",
    "\"knn_страна_Израиль\", \"knn_страна_Индия\",\"knn_страна_Иран\", \"knn_страна_Испания\",\"knn_страна_Италия\",\n",
    "\"knn_страна_Китай\",\"knn_страна_Малайзия\", \"knn_страна_Нидерланды\",\"knn_страна_Объединённые Арабские Эмираты\",\n",
    "\"knn_страна_Россия\",\"knn_страна_Румыния\", \"knn_страна_США\", \"knn_страна_Тайвань\",\"knn_страна_Узбекистан\", \n",
    "\"knn_страна_Франция\",\"knn_страна_Хорватия\", \"knn_страна_Чехия\",\"knn_страна_Швеция\", \"knn_страна_Южная Корея\", \n",
    "\"knn_страна_Япония\", \"knn_коробка_автомат\", \"knn_коробка_вариатор\", \"knn_коробка_механика\", \"knn_коробка_робот\",\n",
    "\"knn_привод_задний\", \"knn_привод_передний\", \"knn_привод_полный\", \"knn_тип_двигателя_СУГ\",\n",
    "\"knn_тип_двигателя_бензин\", \"knn_тип_двигателя_гибрид\", \"knn_тип_двигателя_дизель\", \"knn_тип_двигателя_электро\",\n",
    "\"knn_класс_A\", \"knn_класс_B\", \"knn_класс_C\", \"knn_класс_D\", \"knn_класс_E\", \"knn_класс_F\", \"knn_класс_J\", \n",
    "\"knn_класс_M\", \"knn_класс_S\", \"knn_эко_Euro 3\", \"knn_эко_Euro 4\", \"knn_эко_Euro 5\", \"knn_эко_Euro 6\",\n",
    "\"Количество дверей\", \"Количество мест\"]"
   ]
  },
  {
   "cell_type": "code",
   "execution_count": null,
   "metadata": {},
   "outputs": [],
   "source": [
    "data['Рекомендации'] = ''\n",
    "data['Рекомендации'] = data['Рекомендации'].astype('object')\n",
    "for index in range(data.shape[0]):\n",
    "    data.at[index, 'Рекомендации'] = recommend(data, data.iloc[index], columns, 'eucl')\n",
    "    data.to_csv('data_final.csv')"
   ]
  }
 ],
 "metadata": {
  "kernelspec": {
   "display_name": "Python 3",
   "language": "python",
   "name": "python3"
  },
  "language_info": {
   "codemirror_mode": {
    "name": "ipython",
    "version": 3
   },
   "file_extension": ".py",
   "mimetype": "text/x-python",
   "name": "python",
   "nbconvert_exporter": "python",
   "pygments_lexer": "ipython3",
   "version": "3.7.6"
  }
 },
 "nbformat": 4,
 "nbformat_minor": 4
}
