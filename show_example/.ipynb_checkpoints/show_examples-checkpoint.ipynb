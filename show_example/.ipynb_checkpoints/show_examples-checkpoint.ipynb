{
 "cells": [
  {
   "cell_type": "code",
   "execution_count": 1,
   "metadata": {},
   "outputs": [],
   "source": [
    "from selenium import webdriver\n",
    "import json\n",
    "import time\n",
    "import pandas as pd\n",
    "pd.options.display.max_columns = None\n",
    "from selenium.webdriver.common.action_chains import ActionChains\n",
    "from selenium.webdriver.common.by import By\n",
    "from selenium.webdriver.support.ui import WebDriverWait\n",
    "from selenium.webdriver.support import expected_conditions as ec\n",
    "from IPython.display import display, clear_output\n",
    "import random\n",
    "import urllib"
   ]
  },
  {
   "cell_type": "code",
   "execution_count": 2,
   "metadata": {},
   "outputs": [],
   "source": [
    "driver = webdriver.Chrome('./chromedriver')"
   ]
  },
  {
   "cell_type": "code",
   "execution_count": 3,
   "metadata": {},
   "outputs": [],
   "source": [
    "driver.get('https://auto.ru/catalog/cars/all/?view_type=list&year_from=2019&year_to=2019')\n",
    "models_links = []\n",
    "next_button = driver.find_element_by_class_name('pager__next')\n",
    "\n",
    "while len(models_links) < 10:\n",
    "    time.sleep(1)\n",
    "    elem = driver.find_element_by_class_name('catalog-all-text-list')\n",
    "    models_links+= [x.get_attribute('href') for x in elem.find_elements_by_tag_name('a')]\n",
    "    time.sleep(1)\n",
    "    if next_button.is_enabled():\n",
    "        next_button.click()\n",
    "    else:\n",
    "        break\n",
    "    \n",
    "with open('models_links.json', 'w+') as out_file:\n",
    "    json.dump({'links': models_links}, out_file)"
   ]
  },
  {
   "cell_type": "code",
   "execution_count": 4,
   "metadata": {},
   "outputs": [
    {
     "data": {
      "text/plain": [
       "['https://auto.ru/catalog/cars/acura/ilx/?year_from=2019&year_to=2019',\n",
       " 'https://auto.ru/catalog/cars/acura/mdx/?year_from=2019&year_to=2019',\n",
       " 'https://auto.ru/catalog/cars/acura/nsx/?year_from=2019&year_to=2019',\n",
       " 'https://auto.ru/catalog/cars/acura/rdx/?year_from=2019&year_to=2019',\n",
       " 'https://auto.ru/catalog/cars/acura/rlx/?year_from=2019&year_to=2019',\n",
       " 'https://auto.ru/catalog/cars/acura/tlx/?year_from=2019&year_to=2019',\n",
       " 'https://auto.ru/catalog/cars/alfa_romeo/giulia/?year_from=2019&year_to=2019',\n",
       " 'https://auto.ru/catalog/cars/alfa_romeo/giulietta/?year_from=2019&year_to=2019',\n",
       " 'https://auto.ru/catalog/cars/alfa_romeo/stelvio/?year_from=2019&year_to=2019',\n",
       " 'https://auto.ru/catalog/cars/alpina/b3/?year_from=2019&year_to=2019',\n",
       " 'https://auto.ru/catalog/cars/alpina/b4/?year_from=2019&year_to=2019',\n",
       " 'https://auto.ru/catalog/cars/alpina/b5/?year_from=2019&year_to=2019',\n",
       " 'https://auto.ru/catalog/cars/alpina/b7/?year_from=2019&year_to=2019',\n",
       " 'https://auto.ru/catalog/cars/alpina/d3/?year_from=2019&year_to=2019',\n",
       " 'https://auto.ru/catalog/cars/alpina/d4/?year_from=2019&year_to=2019',\n",
       " 'https://auto.ru/catalog/cars/alpina/d5/?year_from=2019&year_to=2019',\n",
       " 'https://auto.ru/catalog/cars/alpina/xd3/?year_from=2019&year_to=2019',\n",
       " 'https://auto.ru/catalog/cars/alpina/xd4/?year_from=2019&year_to=2019',\n",
       " 'https://auto.ru/catalog/cars/alpine/a110/?year_from=2019&year_to=2019',\n",
       " 'https://auto.ru/catalog/cars/apal/21541/?year_from=2019&year_to=2019',\n",
       " 'https://auto.ru/catalog/cars/ariel/atom/?year_from=2019&year_to=2019',\n",
       " 'https://auto.ru/catalog/cars/aston_martin/db11/?year_from=2019&year_to=2019',\n",
       " 'https://auto.ru/catalog/cars/aston_martin/dbs/?year_from=2019&year_to=2019',\n",
       " 'https://auto.ru/catalog/cars/aston_martin/dbx/?year_from=2019&year_to=2019',\n",
       " 'https://auto.ru/catalog/cars/aston_martin/rapide/?year_from=2019&year_to=2019',\n",
       " 'https://auto.ru/catalog/cars/aston_martin/v8/?year_from=2019&year_to=2019',\n",
       " 'https://auto.ru/catalog/cars/audi/a1/?year_from=2019&year_to=2019',\n",
       " 'https://auto.ru/catalog/cars/audi/a3/?year_from=2019&year_to=2019',\n",
       " 'https://auto.ru/catalog/cars/audi/a4/?year_from=2019&year_to=2019',\n",
       " 'https://auto.ru/catalog/cars/audi/a4_allroad/?year_from=2019&year_to=2019',\n",
       " 'https://auto.ru/catalog/cars/audi/a5/?year_from=2019&year_to=2019',\n",
       " 'https://auto.ru/catalog/cars/audi/a6/?year_from=2019&year_to=2019',\n",
       " 'https://auto.ru/catalog/cars/audi/a7/?year_from=2019&year_to=2019',\n",
       " 'https://auto.ru/catalog/cars/audi/a8/?year_from=2019&year_to=2019',\n",
       " 'https://auto.ru/catalog/cars/audi/allroad/?year_from=2019&year_to=2019',\n",
       " 'https://auto.ru/catalog/cars/audi/e_tron/?year_from=2019&year_to=2019',\n",
       " 'https://auto.ru/catalog/cars/audi/e_tron_sportback/?year_from=2019&year_to=2019',\n",
       " 'https://auto.ru/catalog/cars/audi/q2/?year_from=2019&year_to=2019',\n",
       " 'https://auto.ru/catalog/cars/audi/q3/?year_from=2019&year_to=2019',\n",
       " 'https://auto.ru/catalog/cars/audi/q3_sportback/?year_from=2019&year_to=2019',\n",
       " 'https://auto.ru/catalog/cars/audi/q5/?year_from=2019&year_to=2019',\n",
       " 'https://auto.ru/catalog/cars/audi/q7/?year_from=2019&year_to=2019',\n",
       " 'https://auto.ru/catalog/cars/audi/q8/?year_from=2019&year_to=2019',\n",
       " 'https://auto.ru/catalog/cars/audi/r8/?year_from=2019&year_to=2019',\n",
       " 'https://auto.ru/catalog/cars/audi/rs3/?year_from=2019&year_to=2019',\n",
       " 'https://auto.ru/catalog/cars/audi/rs4/?year_from=2019&year_to=2019',\n",
       " 'https://auto.ru/catalog/cars/audi/rs5/?year_from=2019&year_to=2019',\n",
       " 'https://auto.ru/catalog/cars/audi/rs6/?year_from=2019&year_to=2019',\n",
       " 'https://auto.ru/catalog/cars/audi/rs7/?year_from=2019&year_to=2019',\n",
       " 'https://auto.ru/catalog/cars/audi/rs_q3_sportback/?year_from=2019&year_to=2019',\n",
       " 'https://auto.ru/catalog/cars/audi/rs_q8/?year_from=2019&year_to=2019',\n",
       " 'https://auto.ru/catalog/cars/audi/rsq3/?year_from=2019&year_to=2019',\n",
       " 'https://auto.ru/catalog/cars/audi/s3/?year_from=2019&year_to=2019',\n",
       " 'https://auto.ru/catalog/cars/audi/s4/?year_from=2019&year_to=2019',\n",
       " 'https://auto.ru/catalog/cars/audi/s5/?year_from=2019&year_to=2019',\n",
       " 'https://auto.ru/catalog/cars/audi/s6/?year_from=2019&year_to=2019',\n",
       " 'https://auto.ru/catalog/cars/audi/s7/?year_from=2019&year_to=2019',\n",
       " 'https://auto.ru/catalog/cars/audi/s8/?year_from=2019&year_to=2019',\n",
       " 'https://auto.ru/catalog/cars/audi/sq2/?year_from=2019&year_to=2019',\n",
       " 'https://auto.ru/catalog/cars/audi/sq5/?year_from=2019&year_to=2019',\n",
       " 'https://auto.ru/catalog/cars/audi/sq7/?year_from=2019&year_to=2019',\n",
       " 'https://auto.ru/catalog/cars/audi/sq8/?year_from=2019&year_to=2019',\n",
       " 'https://auto.ru/catalog/cars/audi/tt/?year_from=2019&year_to=2019',\n",
       " 'https://auto.ru/catalog/cars/audi/tt_rs/?year_from=2019&year_to=2019',\n",
       " 'https://auto.ru/catalog/cars/audi/tts/?year_from=2019&year_to=2019',\n",
       " 'https://auto.ru/catalog/cars/aurus/senat/?year_from=2019&year_to=2019',\n",
       " 'https://auto.ru/catalog/cars/bajaj/qute/?year_from=2019&year_to=2019']"
      ]
     },
     "execution_count": 4,
     "metadata": {},
     "output_type": "execute_result"
    }
   ],
   "source": [
    "models_links"
   ]
  },
  {
   "cell_type": "code",
   "execution_count": 5,
   "metadata": {},
   "outputs": [],
   "source": [
    "all_models_links = []\n",
    "for models_link in models_links[:3]:\n",
    "    driver.get(models_link)\n",
    "    elem = driver.find_elements_by_class_name('catalog-all-text-list__desc')\n",
    "    for e in elem:\n",
    "        models_types = e.find_elements_by_class_name('mosaic__title')\n",
    "        for model_type in models_types:\n",
    "            all_models_links.append(model_type.get_attribute('href'))\n",
    "with open('all_models_links.json', 'w') as out_file:\n",
    "    json.dump({'links': all_models_links}, out_file)"
   ]
  },
  {
   "cell_type": "code",
   "execution_count": 6,
   "metadata": {},
   "outputs": [
    {
     "data": {
      "text/plain": [
       "['https://auto.ru/catalog/cars/acura/ilx/21468782/21468837/?year_from=2019&year_to=2019',\n",
       " 'https://auto.ru/catalog/cars/acura/mdx/20805126/20805159/?year_from=2019&year_to=2019',\n",
       " 'https://auto.ru/catalog/cars/acura/nsx/20650055/20650082/?year_from=2019&year_to=2019']"
      ]
     },
     "execution_count": 6,
     "metadata": {},
     "output_type": "execute_result"
    }
   ],
   "source": [
    "all_models_links"
   ]
  },
  {
   "cell_type": "code",
   "execution_count": 7,
   "metadata": {},
   "outputs": [
    {
     "name": "stdout",
     "output_type": "stream",
     "text": [
      "https://auto.ru/catalog/cars/acura/ilx/21468782/21468837/?year_from=2019&year_to=2019\n",
      "https://auto.ru/catalog/cars/acura/mdx/20805126/20805159/?year_from=2019&year_to=2019\n",
      "https://auto.ru/catalog/cars/acura/mdx/20805126/20805159/?year_from=2019&year_to=2019\n",
      "https://auto.ru/catalog/cars/acura/mdx/20805126/20805159/?year_from=2019&year_to=2019\n"
     ]
    },
    {
     "ename": "KeyError",
     "evalue": "\"['index'] not found in axis\"",
     "output_type": "error",
     "traceback": [
      "\u001b[0;31m---------------------------------------------------------------------------\u001b[0m",
      "\u001b[0;31mKeyError\u001b[0m                                  Traceback (most recent call last)",
      "\u001b[0;32m<ipython-input-7-42fca043503b>\u001b[0m in \u001b[0;36m<module>\u001b[0;34m\u001b[0m\n\u001b[1;32m     69\u001b[0m             \u001b[0mdata_spec\u001b[0m\u001b[0;34m.\u001b[0m\u001b[0mto_csv\u001b[0m\u001b[0;34m(\u001b[0m\u001b[0;34m'out.csv'\u001b[0m\u001b[0;34m,\u001b[0m \u001b[0mindex\u001b[0m\u001b[0;34m=\u001b[0m\u001b[0;32mFalse\u001b[0m\u001b[0;34m)\u001b[0m\u001b[0;34m\u001b[0m\u001b[0;34m\u001b[0m\u001b[0m\n\u001b[1;32m     70\u001b[0m             \u001b[0mprint\u001b[0m\u001b[0;34m(\u001b[0m\u001b[0mlink\u001b[0m\u001b[0;34m)\u001b[0m\u001b[0;34m\u001b[0m\u001b[0;34m\u001b[0m\u001b[0m\n\u001b[0;32m---> 71\u001b[0;31m \u001b[0mdata_spec\u001b[0m \u001b[0;34m=\u001b[0m \u001b[0mdata_spec\u001b[0m\u001b[0;34m.\u001b[0m\u001b[0mdrop\u001b[0m\u001b[0;34m(\u001b[0m\u001b[0mcolumns\u001b[0m\u001b[0;34m=\u001b[0m\u001b[0;34m[\u001b[0m\u001b[0;34m'index'\u001b[0m\u001b[0;34m]\u001b[0m\u001b[0;34m)\u001b[0m\u001b[0;34m.\u001b[0m\u001b[0mreset_index\u001b[0m\u001b[0;34m(\u001b[0m\u001b[0;34m)\u001b[0m\u001b[0;34m\u001b[0m\u001b[0;34m\u001b[0m\u001b[0m\n\u001b[0m",
      "\u001b[0;32m~/anaconda3/lib/python3.7/site-packages/pandas/core/frame.py\u001b[0m in \u001b[0;36mdrop\u001b[0;34m(self, labels, axis, index, columns, level, inplace, errors)\u001b[0m\n\u001b[1;32m   3995\u001b[0m             \u001b[0mlevel\u001b[0m\u001b[0;34m=\u001b[0m\u001b[0mlevel\u001b[0m\u001b[0;34m,\u001b[0m\u001b[0;34m\u001b[0m\u001b[0;34m\u001b[0m\u001b[0m\n\u001b[1;32m   3996\u001b[0m             \u001b[0minplace\u001b[0m\u001b[0;34m=\u001b[0m\u001b[0minplace\u001b[0m\u001b[0;34m,\u001b[0m\u001b[0;34m\u001b[0m\u001b[0;34m\u001b[0m\u001b[0m\n\u001b[0;32m-> 3997\u001b[0;31m             \u001b[0merrors\u001b[0m\u001b[0;34m=\u001b[0m\u001b[0merrors\u001b[0m\u001b[0;34m,\u001b[0m\u001b[0;34m\u001b[0m\u001b[0;34m\u001b[0m\u001b[0m\n\u001b[0m\u001b[1;32m   3998\u001b[0m         )\n\u001b[1;32m   3999\u001b[0m \u001b[0;34m\u001b[0m\u001b[0m\n",
      "\u001b[0;32m~/anaconda3/lib/python3.7/site-packages/pandas/core/generic.py\u001b[0m in \u001b[0;36mdrop\u001b[0;34m(self, labels, axis, index, columns, level, inplace, errors)\u001b[0m\n\u001b[1;32m   3934\u001b[0m         \u001b[0;32mfor\u001b[0m \u001b[0maxis\u001b[0m\u001b[0;34m,\u001b[0m \u001b[0mlabels\u001b[0m \u001b[0;32min\u001b[0m \u001b[0maxes\u001b[0m\u001b[0;34m.\u001b[0m\u001b[0mitems\u001b[0m\u001b[0;34m(\u001b[0m\u001b[0;34m)\u001b[0m\u001b[0;34m:\u001b[0m\u001b[0;34m\u001b[0m\u001b[0;34m\u001b[0m\u001b[0m\n\u001b[1;32m   3935\u001b[0m             \u001b[0;32mif\u001b[0m \u001b[0mlabels\u001b[0m \u001b[0;32mis\u001b[0m \u001b[0;32mnot\u001b[0m \u001b[0;32mNone\u001b[0m\u001b[0;34m:\u001b[0m\u001b[0;34m\u001b[0m\u001b[0;34m\u001b[0m\u001b[0m\n\u001b[0;32m-> 3936\u001b[0;31m                 \u001b[0mobj\u001b[0m \u001b[0;34m=\u001b[0m \u001b[0mobj\u001b[0m\u001b[0;34m.\u001b[0m\u001b[0m_drop_axis\u001b[0m\u001b[0;34m(\u001b[0m\u001b[0mlabels\u001b[0m\u001b[0;34m,\u001b[0m \u001b[0maxis\u001b[0m\u001b[0;34m,\u001b[0m \u001b[0mlevel\u001b[0m\u001b[0;34m=\u001b[0m\u001b[0mlevel\u001b[0m\u001b[0;34m,\u001b[0m \u001b[0merrors\u001b[0m\u001b[0;34m=\u001b[0m\u001b[0merrors\u001b[0m\u001b[0;34m)\u001b[0m\u001b[0;34m\u001b[0m\u001b[0;34m\u001b[0m\u001b[0m\n\u001b[0m\u001b[1;32m   3937\u001b[0m \u001b[0;34m\u001b[0m\u001b[0m\n\u001b[1;32m   3938\u001b[0m         \u001b[0;32mif\u001b[0m \u001b[0minplace\u001b[0m\u001b[0;34m:\u001b[0m\u001b[0;34m\u001b[0m\u001b[0;34m\u001b[0m\u001b[0m\n",
      "\u001b[0;32m~/anaconda3/lib/python3.7/site-packages/pandas/core/generic.py\u001b[0m in \u001b[0;36m_drop_axis\u001b[0;34m(self, labels, axis, level, errors)\u001b[0m\n\u001b[1;32m   3968\u001b[0m                 \u001b[0mnew_axis\u001b[0m \u001b[0;34m=\u001b[0m \u001b[0maxis\u001b[0m\u001b[0;34m.\u001b[0m\u001b[0mdrop\u001b[0m\u001b[0;34m(\u001b[0m\u001b[0mlabels\u001b[0m\u001b[0;34m,\u001b[0m \u001b[0mlevel\u001b[0m\u001b[0;34m=\u001b[0m\u001b[0mlevel\u001b[0m\u001b[0;34m,\u001b[0m \u001b[0merrors\u001b[0m\u001b[0;34m=\u001b[0m\u001b[0merrors\u001b[0m\u001b[0;34m)\u001b[0m\u001b[0;34m\u001b[0m\u001b[0;34m\u001b[0m\u001b[0m\n\u001b[1;32m   3969\u001b[0m             \u001b[0;32melse\u001b[0m\u001b[0;34m:\u001b[0m\u001b[0;34m\u001b[0m\u001b[0;34m\u001b[0m\u001b[0m\n\u001b[0;32m-> 3970\u001b[0;31m                 \u001b[0mnew_axis\u001b[0m \u001b[0;34m=\u001b[0m \u001b[0maxis\u001b[0m\u001b[0;34m.\u001b[0m\u001b[0mdrop\u001b[0m\u001b[0;34m(\u001b[0m\u001b[0mlabels\u001b[0m\u001b[0;34m,\u001b[0m \u001b[0merrors\u001b[0m\u001b[0;34m=\u001b[0m\u001b[0merrors\u001b[0m\u001b[0;34m)\u001b[0m\u001b[0;34m\u001b[0m\u001b[0;34m\u001b[0m\u001b[0m\n\u001b[0m\u001b[1;32m   3971\u001b[0m             \u001b[0mresult\u001b[0m \u001b[0;34m=\u001b[0m \u001b[0mself\u001b[0m\u001b[0;34m.\u001b[0m\u001b[0mreindex\u001b[0m\u001b[0;34m(\u001b[0m\u001b[0;34m**\u001b[0m\u001b[0;34m{\u001b[0m\u001b[0maxis_name\u001b[0m\u001b[0;34m:\u001b[0m \u001b[0mnew_axis\u001b[0m\u001b[0;34m}\u001b[0m\u001b[0;34m)\u001b[0m\u001b[0;34m\u001b[0m\u001b[0;34m\u001b[0m\u001b[0m\n\u001b[1;32m   3972\u001b[0m \u001b[0;34m\u001b[0m\u001b[0m\n",
      "\u001b[0;32m~/anaconda3/lib/python3.7/site-packages/pandas/core/indexes/base.py\u001b[0m in \u001b[0;36mdrop\u001b[0;34m(self, labels, errors)\u001b[0m\n\u001b[1;32m   5016\u001b[0m         \u001b[0;32mif\u001b[0m \u001b[0mmask\u001b[0m\u001b[0;34m.\u001b[0m\u001b[0many\u001b[0m\u001b[0;34m(\u001b[0m\u001b[0;34m)\u001b[0m\u001b[0;34m:\u001b[0m\u001b[0;34m\u001b[0m\u001b[0;34m\u001b[0m\u001b[0m\n\u001b[1;32m   5017\u001b[0m             \u001b[0;32mif\u001b[0m \u001b[0merrors\u001b[0m \u001b[0;34m!=\u001b[0m \u001b[0;34m\"ignore\"\u001b[0m\u001b[0;34m:\u001b[0m\u001b[0;34m\u001b[0m\u001b[0;34m\u001b[0m\u001b[0m\n\u001b[0;32m-> 5018\u001b[0;31m                 \u001b[0;32mraise\u001b[0m \u001b[0mKeyError\u001b[0m\u001b[0;34m(\u001b[0m\u001b[0;34mf\"{labels[mask]} not found in axis\"\u001b[0m\u001b[0;34m)\u001b[0m\u001b[0;34m\u001b[0m\u001b[0;34m\u001b[0m\u001b[0m\n\u001b[0m\u001b[1;32m   5019\u001b[0m             \u001b[0mindexer\u001b[0m \u001b[0;34m=\u001b[0m \u001b[0mindexer\u001b[0m\u001b[0;34m[\u001b[0m\u001b[0;34m~\u001b[0m\u001b[0mmask\u001b[0m\u001b[0;34m]\u001b[0m\u001b[0;34m\u001b[0m\u001b[0;34m\u001b[0m\u001b[0m\n\u001b[1;32m   5020\u001b[0m         \u001b[0;32mreturn\u001b[0m \u001b[0mself\u001b[0m\u001b[0;34m.\u001b[0m\u001b[0mdelete\u001b[0m\u001b[0;34m(\u001b[0m\u001b[0mindexer\u001b[0m\u001b[0;34m)\u001b[0m\u001b[0;34m\u001b[0m\u001b[0;34m\u001b[0m\u001b[0m\n",
      "\u001b[0;31mKeyError\u001b[0m: \"['index'] not found in axis\""
     ]
    }
   ],
   "source": [
    "data = pd.DataFrame()\n",
    "for link in all_models_links:\n",
    "    if data.shape[0] < 3:\n",
    "        driver.get(link)\n",
    "        time.sleep(random.randint(3, 7))\n",
    "\n",
    "\n",
    "        wait = WebDriverWait(driver, 60)\n",
    "\n",
    "\n",
    "        brand = driver.find_element_by_class_name('search-form-v2-mmm__breadcrumbs-item_type_mark').text\n",
    "        model = driver.find_element_by_class_name('search-form-v2-mmm__breadcrumbs-item_type_model').text\n",
    "        generation = driver.find_element_by_class_name('search-form-v2-mmm__breadcrumbs-item_type_generation').text\n",
    "        config = driver.find_element_by_class_name('search-form-v2-mmm__breadcrumbs-item_type_configuration').text\n",
    "\n",
    "        try:\n",
    "            used_price_string = driver.find_element_by_xpath(\"//div[@class='catalog-generation__sales-info-block'][div[@class='catalog-generation__sales-info-block-title']='С пробегом']/div[@class='catalog-generation__sales-info-block-link']/a\").text\n",
    "            price = (int(a.split('–')[0].replace(' ','')) + int(a.split('–')[1].replace(' ','').replace('₽','')))/2\n",
    "        except:\n",
    "            price = None\n",
    "\n",
    "        button = wait.until(ec.element_to_be_clickable((By.LINK_TEXT, 'Характеристики')))\n",
    "        ActionChains(driver).click(button).perform()\n",
    "\n",
    "        wait.until(ec.presence_of_element_located((By.XPATH, \"//dt[text()='Тип двигателя']\")))\n",
    "        time.sleep(random.randint(5, 7))\n",
    "\n",
    "\n",
    "        models_repres = driver.find_elements_by_css_selector(\".catalog-table__inner .link_theme_auto\")\n",
    "\n",
    "        for i in range(len(models_repres)):\n",
    "            wait.until(ec.presence_of_element_located((By.XPATH, \"//dt[text()='Тип двигателя']\")))\n",
    "            time.sleep(random.randint(5, 7))\n",
    "            driver.find_elements_by_css_selector(\".catalog-table__inner .link_theme_auto\")[i].click()\n",
    "            #считываем характеристики\n",
    "            spec_dict={}\n",
    "            spec_dict['Марка'] = brand\n",
    "            spec_dict['Модель'] = model\n",
    "            spec_dict['Поколение'] = generation\n",
    "            spec_dict['Тип кузова'] = config\n",
    "            spec_dict['Цена'] = price\n",
    "\n",
    "\n",
    "            wait.until(ec.presence_of_element_located((By.XPATH, \"//dt[text()='Тип двигателя']\")))\n",
    "            time.sleep(random.randint(5, 7))\n",
    "            for group in driver.find_elements_by_class_name('catalog__details-group'):\n",
    "                a = group.find_elements_by_class_name('list-values__label')\n",
    "                b = group.find_elements_by_class_name('list-values__value')\n",
    "                for x, y in zip(a,b):\n",
    "                    spec_dict[x.text] = [y.text]\n",
    "\n",
    "\n",
    "            comp = driver.find_elements_by_link_text('Комплектации')\n",
    "            try:\n",
    "                if len(comp) != 0:\n",
    "                    time.sleep(5)\n",
    "                    comp[0].click()\n",
    "                    time.sleep(5)\n",
    "                    spec_dict['Цена'] = int(driver.find_element_by_class_name('catalog__package-price').text.replace(' ','').replace('₽',''))\n",
    "            except:\n",
    "                pass\n",
    "\n",
    "            button = wait.until(ec.element_to_be_clickable((By.LINK_TEXT, 'Характеристики')))\n",
    "            ActionChains(driver).click(button).perform()\n",
    "\n",
    "            spec_dict['Ссылка'] = link\n",
    "            temp_data = pd.DataFrame.from_dict(spec_dict)\n",
    "            data = data.append(temp_data, sort=False)\n",
    "            data.to_csv('out.csv', index=False)\n",
    "            print(link)\n",
    "data = data.reset_index().drop(columns=['index']).reset_index()"
   ]
  },
  {
   "cell_type": "code",
   "execution_count": 16,
   "metadata": {},
   "outputs": [],
   "source": [
    "data['Изображение'] = ''\n",
    "for index in range(data.shape[0]):\n",
    "    if index != 0:\n",
    "        if data.at[index-1, 'Ссылка'] == data.at[index, 'Ссылка']:\n",
    "            data.at[index, 'Изображение'] = data.at[index-1, 'Изображение']\n",
    "        else:\n",
    "            driver.get(data.at[index, 'Ссылка'])\n",
    "            driver.find_element_by_class_name('photo-gallery__thumb').click()\n",
    "            src = driver.find_element_by_class_name('fotorama__img').get_attribute('src')\n",
    "            urllib.request.urlretrieve(src, \"./images/\"+str(index)+'.png')\n",
    "    else:\n",
    "        driver.get(data.at[index, 'Ссылка'])\n",
    "        driver.find_element_by_class_name('photo-gallery__thumb').click()\n",
    "        src = driver.find_element_by_class_name('fotorama__img').get_attribute('src')\n",
    "        urllib.request.urlretrieve(src, \"./images/\"+str(index)+'.png')"
   ]
  },
  {
   "cell_type": "code",
   "execution_count": 23,
   "metadata": {},
   "outputs": [
    {
     "ename": "NameError",
     "evalue": "name 'data' is not defined",
     "output_type": "error",
     "traceback": [
      "\u001b[0;31m---------------------------------------------------------------------------\u001b[0m",
      "\u001b[0;31mNameError\u001b[0m                                 Traceback (most recent call last)",
      "\u001b[0;32m<ipython-input-23-18f18a31d2e0>\u001b[0m in \u001b[0;36m<module>\u001b[0;34m\u001b[0m\n\u001b[0;32m----> 1\u001b[0;31m \u001b[0;32mfor\u001b[0m \u001b[0mindex\u001b[0m \u001b[0;32min\u001b[0m \u001b[0mrange\u001b[0m\u001b[0;34m(\u001b[0m\u001b[0mdata\u001b[0m\u001b[0;34m.\u001b[0m\u001b[0mshape\u001b[0m\u001b[0;34m[\u001b[0m\u001b[0;36m0\u001b[0m\u001b[0;34m]\u001b[0m\u001b[0;34m)\u001b[0m\u001b[0;34m:\u001b[0m\u001b[0;34m\u001b[0m\u001b[0;34m\u001b[0m\u001b[0m\n\u001b[0m\u001b[1;32m      2\u001b[0m     \u001b[0;32mif\u001b[0m \u001b[0mtype\u001b[0m\u001b[0;34m(\u001b[0m\u001b[0mdata\u001b[0m\u001b[0;34m.\u001b[0m\u001b[0mat\u001b[0m\u001b[0;34m[\u001b[0m\u001b[0mindex\u001b[0m\u001b[0;34m,\u001b[0m \u001b[0;34m'Расход топлива, л город/трасса/смешанный'\u001b[0m\u001b[0;34m]\u001b[0m\u001b[0;34m)\u001b[0m \u001b[0;32mis\u001b[0m \u001b[0mstr\u001b[0m\u001b[0;34m:\u001b[0m\u001b[0;34m\u001b[0m\u001b[0;34m\u001b[0m\u001b[0m\n\u001b[1;32m      3\u001b[0m         \u001b[0mtemp\u001b[0m \u001b[0;34m=\u001b[0m \u001b[0mdata\u001b[0m\u001b[0;34m.\u001b[0m\u001b[0mat\u001b[0m\u001b[0;34m[\u001b[0m\u001b[0mindex\u001b[0m\u001b[0;34m,\u001b[0m \u001b[0;34m'Расход топлива, л город/трасса/смешанный'\u001b[0m\u001b[0;34m]\u001b[0m\u001b[0;34m.\u001b[0m\u001b[0msplit\u001b[0m\u001b[0;34m(\u001b[0m\u001b[0;34m'/'\u001b[0m\u001b[0;34m)\u001b[0m\u001b[0;34m\u001b[0m\u001b[0;34m\u001b[0m\u001b[0m\n\u001b[1;32m      4\u001b[0m         \u001b[0mdata\u001b[0m\u001b[0;34m.\u001b[0m\u001b[0mat\u001b[0m\u001b[0;34m[\u001b[0m\u001b[0mindex\u001b[0m\u001b[0;34m,\u001b[0m \u001b[0;34m'Расход топлива, л город'\u001b[0m\u001b[0;34m]\u001b[0m \u001b[0;34m=\u001b[0m \u001b[0mtemp\u001b[0m\u001b[0;34m[\u001b[0m\u001b[0;36m0\u001b[0m\u001b[0;34m]\u001b[0m\u001b[0;34m\u001b[0m\u001b[0;34m\u001b[0m\u001b[0m\n\u001b[1;32m      5\u001b[0m         \u001b[0mdata\u001b[0m\u001b[0;34m.\u001b[0m\u001b[0mat\u001b[0m\u001b[0;34m[\u001b[0m\u001b[0mindex\u001b[0m\u001b[0;34m,\u001b[0m \u001b[0;34m'Расход топлива, л трасса'\u001b[0m\u001b[0;34m]\u001b[0m \u001b[0;34m=\u001b[0m \u001b[0mtemp\u001b[0m\u001b[0;34m[\u001b[0m\u001b[0;36m1\u001b[0m\u001b[0;34m]\u001b[0m\u001b[0;34m\u001b[0m\u001b[0;34m\u001b[0m\u001b[0m\n",
      "\u001b[0;31mNameError\u001b[0m: name 'data' is not defined"
     ]
    }
   ],
   "source": [
    "for index in range(data.shape[0]):\n",
    "    if type(data.at[index, 'Расход топлива, л город/трасса/смешанный']) is str:\n",
    "        temp = data.at[index, 'Расход топлива, л город/трасса/смешанный'].split('/')\n",
    "        data.at[index, 'Расход топлива, л город'] = temp[0]\n",
    "        data.at[index, 'Расход топлива, л трасса'] = temp[1]\n",
    "        data.at[index, 'Расход топлива, л смешанный'] = temp[2]\n",
    "    elif type(data1.at[index, 'Расход топлива, л трасса/смешанный']) is str:\n",
    "        data.at[index, 'Расход топлива, л трасса'] = temp[0]\n",
    "        data.at[index, 'Расход топлива, л смешанный'] = temp[1]\n",
    "    elif type(data1.at[index, 'Расход топлива, л город/трасса']) is str:\n",
    "        data.at[index, 'Расход топлива, л город'] = temp[0]\n",
    "        data.at[index, 'Расход топлива, л трасса'] = temp[1]\n",
    "    elif type(data1.at[index, 'Расход топлива, л город/смешанный']) is str:\n",
    "        data.at[index, 'Расход топлива, л город'] = temp[0]\n",
    "        data.at[index, 'Расход топлива, л смешанный'] = temp[1]\n",
    "data = data.drop(columns=['Расход топлива, л трасса/смешанный','Расход топлива, л город/трасса','Расход топлива, л город/смешанный','Расход топлива, л город/трасса/смешанный'])"
   ]
  },
  {
   "cell_type": "code",
   "execution_count": null,
   "metadata": {},
   "outputs": [],
   "source": [
    "for index in range(data.shape[0]):\n",
    "    if data.at[index, 'Количество мест'].__contains__(','):\n",
    "        data.at[index, 'Количество мест'] = data.at[index, 'Количество мест'][0]"
   ]
  },
  {
   "cell_type": "code",
   "execution_count": null,
   "metadata": {},
   "outputs": [],
   "source": [
    "capac_min = []\n",
    "capac_max = []\n",
    "for index in range(data.shape[0]):\n",
    "    if data.at[index, 'Объем багажника мин/макс, л'].__contains__('/'):\n",
    "        temp = data.at[index, 'Объем багажника мин/макс, л'].split('/')\n",
    "        capac_min.append(temp[0])\n",
    "        capac_max.append(temp[1])\n",
    "    else:\n",
    "        capac_min.append(data.at[index, 'Объем багажника мин/макс, л'])\n",
    "        capac_max.append(data.at[index, 'Объем багажника мин/макс, л'])\n",
    "data['Объем багажника мин, л'] = capac_min\n",
    "data['Объем багажника макс, л'] = capac_max\n",
    "data.drop(columns=['Объем багажника мин/макс, л'])"
   ]
  },
  {
   "cell_type": "code",
   "execution_count": null,
   "metadata": {},
   "outputs": [],
   "source": []
  }
 ],
 "metadata": {
  "kernelspec": {
   "display_name": "Python 3",
   "language": "python",
   "name": "python3"
  },
  "language_info": {
   "codemirror_mode": {
    "name": "ipython",
    "version": 3
   },
   "file_extension": ".py",
   "mimetype": "text/x-python",
   "name": "python",
   "nbconvert_exporter": "python",
   "pygments_lexer": "ipython3",
   "version": "3.7.6"
  }
 },
 "nbformat": 4,
 "nbformat_minor": 4
}
