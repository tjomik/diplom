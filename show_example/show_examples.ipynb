{
 "cells": [
  {
   "cell_type": "code",
   "execution_count": 1,
   "metadata": {},
   "outputs": [],
   "source": [
    "from selenium import webdriver\n",
    "import json\n",
    "import time\n",
    "import pandas as pd\n",
    "pd.options.display.max_columns = None\n",
    "from selenium.webdriver.common.action_chains import ActionChains\n",
    "from selenium.webdriver.common.by import By\n",
    "from selenium.webdriver.support.ui import WebDriverWait\n",
    "from selenium.webdriver.support import expected_conditions as ec\n",
    "from IPython.display import display, clear_output\n",
    "import random\n",
    "import urllib\n",
    "import math\n",
    "from operator import itemgetter"
   ]
  },
  {
   "cell_type": "code",
   "execution_count": 2,
   "metadata": {},
   "outputs": [],
   "source": [
    "driver = webdriver.Chrome('./chromedriver')"
   ]
  },
  {
   "cell_type": "markdown",
   "metadata": {},
   "source": [
    "## Сбор ссылок моделей"
   ]
  },
  {
   "cell_type": "code",
   "execution_count": 3,
   "metadata": {},
   "outputs": [],
   "source": [
    "driver.get('https://auto.ru/catalog/cars/all/?view_type=list&year_from=2019&year_to=2019')\n",
    "models_links = []\n",
    "next_button = driver.find_element_by_class_name('pager__next')\n",
    "\n",
    "while len(models_links) < 10:\n",
    "    time.sleep(1)\n",
    "    elem = driver.find_element_by_class_name('catalog-all-text-list')\n",
    "    models_links+= [x.get_attribute('href') for x in elem.find_elements_by_tag_name('a')]\n",
    "    time.sleep(1)\n",
    "    if next_button.is_enabled():\n",
    "        next_button.click()\n",
    "    else:\n",
    "        break\n",
    "    \n",
    "with open('models_links.json', 'w+') as out_file:\n",
    "    json.dump({'links': models_links}, out_file)"
   ]
  },
  {
   "cell_type": "code",
   "execution_count": 4,
   "metadata": {},
   "outputs": [
    {
     "data": {
      "text/plain": [
       "['https://auto.ru/catalog/cars/acura/ilx/?year_from=2019&year_to=2019',\n",
       " 'https://auto.ru/catalog/cars/acura/mdx/?year_from=2019&year_to=2019',\n",
       " 'https://auto.ru/catalog/cars/acura/nsx/?year_from=2019&year_to=2019',\n",
       " 'https://auto.ru/catalog/cars/acura/rdx/?year_from=2019&year_to=2019',\n",
       " 'https://auto.ru/catalog/cars/acura/rlx/?year_from=2019&year_to=2019',\n",
       " 'https://auto.ru/catalog/cars/acura/tlx/?year_from=2019&year_to=2019',\n",
       " 'https://auto.ru/catalog/cars/alfa_romeo/giulia/?year_from=2019&year_to=2019',\n",
       " 'https://auto.ru/catalog/cars/alfa_romeo/giulietta/?year_from=2019&year_to=2019',\n",
       " 'https://auto.ru/catalog/cars/alfa_romeo/stelvio/?year_from=2019&year_to=2019',\n",
       " 'https://auto.ru/catalog/cars/alpina/b3/?year_from=2019&year_to=2019',\n",
       " 'https://auto.ru/catalog/cars/alpina/b4/?year_from=2019&year_to=2019',\n",
       " 'https://auto.ru/catalog/cars/alpina/b5/?year_from=2019&year_to=2019',\n",
       " 'https://auto.ru/catalog/cars/alpina/b7/?year_from=2019&year_to=2019',\n",
       " 'https://auto.ru/catalog/cars/alpina/d3/?year_from=2019&year_to=2019',\n",
       " 'https://auto.ru/catalog/cars/alpina/d4/?year_from=2019&year_to=2019',\n",
       " 'https://auto.ru/catalog/cars/alpina/d5/?year_from=2019&year_to=2019',\n",
       " 'https://auto.ru/catalog/cars/alpina/xd3/?year_from=2019&year_to=2019',\n",
       " 'https://auto.ru/catalog/cars/alpina/xd4/?year_from=2019&year_to=2019',\n",
       " 'https://auto.ru/catalog/cars/alpine/a110/?year_from=2019&year_to=2019',\n",
       " 'https://auto.ru/catalog/cars/apal/21541/?year_from=2019&year_to=2019',\n",
       " 'https://auto.ru/catalog/cars/ariel/atom/?year_from=2019&year_to=2019',\n",
       " 'https://auto.ru/catalog/cars/aston_martin/db11/?year_from=2019&year_to=2019',\n",
       " 'https://auto.ru/catalog/cars/aston_martin/dbs/?year_from=2019&year_to=2019',\n",
       " 'https://auto.ru/catalog/cars/aston_martin/dbx/?year_from=2019&year_to=2019',\n",
       " 'https://auto.ru/catalog/cars/aston_martin/rapide/?year_from=2019&year_to=2019',\n",
       " 'https://auto.ru/catalog/cars/aston_martin/v8/?year_from=2019&year_to=2019',\n",
       " 'https://auto.ru/catalog/cars/audi/a1/?year_from=2019&year_to=2019',\n",
       " 'https://auto.ru/catalog/cars/audi/a3/?year_from=2019&year_to=2019',\n",
       " 'https://auto.ru/catalog/cars/audi/a4/?year_from=2019&year_to=2019',\n",
       " 'https://auto.ru/catalog/cars/audi/a4_allroad/?year_from=2019&year_to=2019',\n",
       " 'https://auto.ru/catalog/cars/audi/a5/?year_from=2019&year_to=2019',\n",
       " 'https://auto.ru/catalog/cars/audi/a6/?year_from=2019&year_to=2019',\n",
       " 'https://auto.ru/catalog/cars/audi/a7/?year_from=2019&year_to=2019',\n",
       " 'https://auto.ru/catalog/cars/audi/a8/?year_from=2019&year_to=2019',\n",
       " 'https://auto.ru/catalog/cars/audi/allroad/?year_from=2019&year_to=2019',\n",
       " 'https://auto.ru/catalog/cars/audi/e_tron/?year_from=2019&year_to=2019',\n",
       " 'https://auto.ru/catalog/cars/audi/e_tron_sportback/?year_from=2019&year_to=2019',\n",
       " 'https://auto.ru/catalog/cars/audi/q2/?year_from=2019&year_to=2019',\n",
       " 'https://auto.ru/catalog/cars/audi/q3/?year_from=2019&year_to=2019',\n",
       " 'https://auto.ru/catalog/cars/audi/q3_sportback/?year_from=2019&year_to=2019',\n",
       " 'https://auto.ru/catalog/cars/audi/q5/?year_from=2019&year_to=2019',\n",
       " 'https://auto.ru/catalog/cars/audi/q7/?year_from=2019&year_to=2019',\n",
       " 'https://auto.ru/catalog/cars/audi/q8/?year_from=2019&year_to=2019',\n",
       " 'https://auto.ru/catalog/cars/audi/r8/?year_from=2019&year_to=2019',\n",
       " 'https://auto.ru/catalog/cars/audi/rs3/?year_from=2019&year_to=2019',\n",
       " 'https://auto.ru/catalog/cars/audi/rs4/?year_from=2019&year_to=2019',\n",
       " 'https://auto.ru/catalog/cars/audi/rs5/?year_from=2019&year_to=2019',\n",
       " 'https://auto.ru/catalog/cars/audi/rs6/?year_from=2019&year_to=2019',\n",
       " 'https://auto.ru/catalog/cars/audi/rs7/?year_from=2019&year_to=2019',\n",
       " 'https://auto.ru/catalog/cars/audi/rs_q3_sportback/?year_from=2019&year_to=2019',\n",
       " 'https://auto.ru/catalog/cars/audi/rs_q8/?year_from=2019&year_to=2019',\n",
       " 'https://auto.ru/catalog/cars/audi/rsq3/?year_from=2019&year_to=2019',\n",
       " 'https://auto.ru/catalog/cars/audi/s3/?year_from=2019&year_to=2019',\n",
       " 'https://auto.ru/catalog/cars/audi/s4/?year_from=2019&year_to=2019',\n",
       " 'https://auto.ru/catalog/cars/audi/s5/?year_from=2019&year_to=2019',\n",
       " 'https://auto.ru/catalog/cars/audi/s6/?year_from=2019&year_to=2019',\n",
       " 'https://auto.ru/catalog/cars/audi/s7/?year_from=2019&year_to=2019',\n",
       " 'https://auto.ru/catalog/cars/audi/s8/?year_from=2019&year_to=2019',\n",
       " 'https://auto.ru/catalog/cars/audi/sq2/?year_from=2019&year_to=2019',\n",
       " 'https://auto.ru/catalog/cars/audi/sq5/?year_from=2019&year_to=2019',\n",
       " 'https://auto.ru/catalog/cars/audi/sq7/?year_from=2019&year_to=2019',\n",
       " 'https://auto.ru/catalog/cars/audi/sq8/?year_from=2019&year_to=2019',\n",
       " 'https://auto.ru/catalog/cars/audi/tt/?year_from=2019&year_to=2019',\n",
       " 'https://auto.ru/catalog/cars/audi/tt_rs/?year_from=2019&year_to=2019',\n",
       " 'https://auto.ru/catalog/cars/audi/tts/?year_from=2019&year_to=2019',\n",
       " 'https://auto.ru/catalog/cars/aurus/senat/?year_from=2019&year_to=2019',\n",
       " 'https://auto.ru/catalog/cars/bajaj/qute/?year_from=2019&year_to=2019']"
      ]
     },
     "execution_count": 4,
     "metadata": {},
     "output_type": "execute_result"
    }
   ],
   "source": [
    "models_links"
   ]
  },
  {
   "cell_type": "markdown",
   "metadata": {},
   "source": [
    "## Сбор ссылок конфигураций всех моделей"
   ]
  },
  {
   "cell_type": "code",
   "execution_count": 5,
   "metadata": {},
   "outputs": [],
   "source": [
    "all_models_links = []\n",
    "for models_link in models_links[:1]:\n",
    "    driver.get(models_link)\n",
    "    elem = driver.find_elements_by_class_name('catalog-all-text-list__desc')\n",
    "    for e in elem:\n",
    "        models_types = e.find_elements_by_class_name('mosaic__title')\n",
    "        for model_type in models_types:\n",
    "            all_models_links.append(model_type.get_attribute('href'))\n",
    "with open('all_models_links.json', 'w') as out_file:\n",
    "    json.dump({'links': all_models_links}, out_file)"
   ]
  },
  {
   "cell_type": "code",
   "execution_count": 6,
   "metadata": {
    "scrolled": true
   },
   "outputs": [
    {
     "data": {
      "text/plain": [
       "['https://auto.ru/catalog/cars/acura/ilx/21468782/21468837/?year_from=2019&year_to=2019']"
      ]
     },
     "execution_count": 6,
     "metadata": {},
     "output_type": "execute_result"
    }
   ],
   "source": [
    "all_models_links"
   ]
  },
  {
   "cell_type": "markdown",
   "metadata": {},
   "source": [
    "## Сбор характеристик"
   ]
  },
  {
   "cell_type": "code",
   "execution_count": 7,
   "metadata": {},
   "outputs": [
    {
     "name": "stdout",
     "output_type": "stream",
     "text": [
      "https://auto.ru/catalog/cars/acura/ilx/21468782/21468837/?year_from=2019&year_to=2019\n"
     ]
    }
   ],
   "source": [
    "data = pd.DataFrame()\n",
    "for link in all_models_links:\n",
    "    driver.get(link)\n",
    "    time.sleep(random.randint(3, 7))\n",
    "\n",
    "\n",
    "    wait = WebDriverWait(driver, 60)\n",
    "\n",
    "\n",
    "    brand = driver.find_element_by_class_name('search-form-v2-mmm__breadcrumbs-item_type_mark').text\n",
    "    model = driver.find_element_by_class_name('search-form-v2-mmm__breadcrumbs-item_type_model').text\n",
    "    generation = driver.find_element_by_class_name('search-form-v2-mmm__breadcrumbs-item_type_generation').text\n",
    "    config = driver.find_element_by_class_name('search-form-v2-mmm__breadcrumbs-item_type_configuration').text\n",
    "\n",
    "    try:\n",
    "        used_price_string = driver.find_element_by_xpath(\"//div[@class='catalog-generation__sales-info-block'][div[@class='catalog-generation__sales-info-block-title']='С пробегом']/div[@class='catalog-generation__sales-info-block-link']/a\").text\n",
    "        price = (int(a.split('–')[0].replace(' ','')) + int(a.split('–')[1].replace(' ','').replace('₽','')))/2\n",
    "    except:\n",
    "        price = None\n",
    "\n",
    "    button = wait.until(ec.element_to_be_clickable((By.LINK_TEXT, 'Характеристики')))\n",
    "    ActionChains(driver).click(button).perform()\n",
    "\n",
    "    wait.until(ec.presence_of_element_located((By.XPATH, \"//dt[text()='Тип двигателя']\")))\n",
    "    time.sleep(random.randint(5, 7))\n",
    "\n",
    "\n",
    "    models_repres = driver.find_elements_by_css_selector(\".catalog-table__inner .link_theme_auto\")\n",
    "\n",
    "    for i in range(len(models_repres)):\n",
    "        wait.until(ec.presence_of_element_located((By.XPATH, \"//dt[text()='Тип двигателя']\")))\n",
    "        time.sleep(random.randint(5, 7))\n",
    "        driver.find_elements_by_css_selector(\".catalog-table__inner .link_theme_auto\")[i].click()\n",
    "        #считываем характеристики\n",
    "        spec_dict={}\n",
    "        spec_dict['Марка'] = brand\n",
    "        spec_dict['Модель'] = model\n",
    "        spec_dict['Поколение'] = generation\n",
    "        spec_dict['Тип кузова'] = config\n",
    "        spec_dict['Цена'] = price\n",
    "\n",
    "\n",
    "        wait.until(ec.presence_of_element_located((By.XPATH, \"//dt[text()='Тип двигателя']\")))\n",
    "        time.sleep(random.randint(5, 7))\n",
    "        for group in driver.find_elements_by_class_name('catalog__details-group'):\n",
    "            a = group.find_elements_by_class_name('list-values__label')\n",
    "            b = group.find_elements_by_class_name('list-values__value')\n",
    "            for x, y in zip(a,b):\n",
    "                spec_dict[x.text] = [y.text]\n",
    "\n",
    "\n",
    "        comp = driver.find_elements_by_link_text('Комплектации')\n",
    "        try:\n",
    "            if len(comp) != 0:\n",
    "                time.sleep(5)\n",
    "                comp[0].click()\n",
    "                time.sleep(5)\n",
    "                spec_dict['Цена'] = int(driver.find_element_by_class_name('catalog__package-price').text.replace(' ','').replace('₽',''))\n",
    "        except:\n",
    "            pass\n",
    "\n",
    "        button = wait.until(ec.element_to_be_clickable((By.LINK_TEXT, 'Характеристики')))\n",
    "        ActionChains(driver).click(button).perform()\n",
    "\n",
    "        spec_dict['Ссылка'] = link\n",
    "        temp_data = pd.DataFrame.from_dict(spec_dict)\n",
    "        data = data.append(temp_data, sort=False)\n",
    "        data.to_csv('out.csv', index=False)\n",
    "        print(link)\n",
    "data = data.reset_index().drop(columns=['index']).reset_index()"
   ]
  },
  {
   "cell_type": "markdown",
   "metadata": {},
   "source": [
    "## Сбор изображений"
   ]
  },
  {
   "cell_type": "code",
   "execution_count": 8,
   "metadata": {},
   "outputs": [],
   "source": [
    "data['Изображение'] = ''\n",
    "for index in range(data.shape[0]):\n",
    "    if index != 0:\n",
    "        if data.at[index-1, 'Ссылка'] == data.at[index, 'Ссылка']:\n",
    "            data.at[index, 'Изображение'] = data.at[index-1, 'Изображение']\n",
    "        else:\n",
    "            driver.get(data.at[index, 'Ссылка'])\n",
    "            driver.find_element_by_class_name('photo-gallery__thumb').click()\n",
    "            src = driver.find_element_by_class_name('fotorama__img').get_attribute('src')\n",
    "            urllib.request.urlretrieve(src, \"./images/\"+str(index)+'.png')\n",
    "    else:\n",
    "        driver.get(data.at[index, 'Ссылка'])\n",
    "        driver.find_element_by_class_name('photo-gallery__thumb').click()\n",
    "        src = driver.find_element_by_class_name('fotorama__img').get_attribute('src')\n",
    "        urllib.request.urlretrieve(src, \"./images/\"+str(index)+'.png')"
   ]
  },
  {
   "cell_type": "code",
   "execution_count": 9,
   "metadata": {},
   "outputs": [
    {
     "data": {
      "text/html": [
       "<div>\n",
       "<style scoped>\n",
       "    .dataframe tbody tr th:only-of-type {\n",
       "        vertical-align: middle;\n",
       "    }\n",
       "\n",
       "    .dataframe tbody tr th {\n",
       "        vertical-align: top;\n",
       "    }\n",
       "\n",
       "    .dataframe thead th {\n",
       "        text-align: right;\n",
       "    }\n",
       "</style>\n",
       "<table border=\"1\" class=\"dataframe\">\n",
       "  <thead>\n",
       "    <tr style=\"text-align: right;\">\n",
       "      <th></th>\n",
       "      <th>index</th>\n",
       "      <th>Марка</th>\n",
       "      <th>Модель</th>\n",
       "      <th>Поколение</th>\n",
       "      <th>Тип кузова</th>\n",
       "      <th>Цена</th>\n",
       "      <th>Страна марки</th>\n",
       "      <th>Класс автомобиля</th>\n",
       "      <th>Количество дверей</th>\n",
       "      <th>Количество мест</th>\n",
       "      <th>Длина</th>\n",
       "      <th>Ширина</th>\n",
       "      <th>Высота</th>\n",
       "      <th>Колёсная база</th>\n",
       "      <th>Клиренс</th>\n",
       "      <th>Ширина передней колеи</th>\n",
       "      <th>Ширина задней колеи</th>\n",
       "      <th>Размер колёс</th>\n",
       "      <th>Объем багажника мин/макс, л</th>\n",
       "      <th>Объём топливного бака, л</th>\n",
       "      <th>Снаряженная масса, кг</th>\n",
       "      <th>Коробка передач</th>\n",
       "      <th>Количество передач</th>\n",
       "      <th>Тип привода</th>\n",
       "      <th>Тип передней подвески</th>\n",
       "      <th>Тип задней подвески</th>\n",
       "      <th>Передние тормоза</th>\n",
       "      <th>Задние тормоза</th>\n",
       "      <th>Разгон до 100 км/ч, с</th>\n",
       "      <th>Расход топлива, л город/трасса/смешанный</th>\n",
       "      <th>Марка топлива</th>\n",
       "      <th>Тип двигателя</th>\n",
       "      <th>Расположение двигателя</th>\n",
       "      <th>Объем двигателя, см³</th>\n",
       "      <th>Тип наддува</th>\n",
       "      <th>Максимальная мощность, л.с./кВт при об/мин</th>\n",
       "      <th>Максимальный крутящий момент, Н*м при об/мин</th>\n",
       "      <th>Расположение цилиндров</th>\n",
       "      <th>Количество цилиндров</th>\n",
       "      <th>Число клапанов на цилиндр</th>\n",
       "      <th>Система питания двигателя</th>\n",
       "      <th>Степень сжатия</th>\n",
       "      <th>Диаметр цилиндра и ход поршня, мм</th>\n",
       "      <th>Ссылка</th>\n",
       "      <th>Изображение</th>\n",
       "    </tr>\n",
       "  </thead>\n",
       "  <tbody>\n",
       "    <tr>\n",
       "      <th>0</th>\n",
       "      <td>0</td>\n",
       "      <td>Acura</td>\n",
       "      <td>ILX</td>\n",
       "      <td>I Рестайлинг 2 2018 – н.в.</td>\n",
       "      <td>Седан</td>\n",
       "      <td>None</td>\n",
       "      <td>Япония</td>\n",
       "      <td>D</td>\n",
       "      <td>4</td>\n",
       "      <td>5</td>\n",
       "      <td>4628</td>\n",
       "      <td>1793</td>\n",
       "      <td>1412</td>\n",
       "      <td>2670</td>\n",
       "      <td>135</td>\n",
       "      <td>1509</td>\n",
       "      <td>1529</td>\n",
       "      <td>215/45/R17 225/40/R18</td>\n",
       "      <td>-</td>\n",
       "      <td>50</td>\n",
       "      <td>1405</td>\n",
       "      <td>робот</td>\n",
       "      <td>8</td>\n",
       "      <td>передний</td>\n",
       "      <td>независимая, пружинная</td>\n",
       "      <td>независимая, пружинная</td>\n",
       "      <td>дисковые вентилируемые</td>\n",
       "      <td>дисковые</td>\n",
       "      <td>7.7</td>\n",
       "      <td>9.8/6.9/8.4</td>\n",
       "      <td>АИ-92</td>\n",
       "      <td>бензин</td>\n",
       "      <td>переднее, поперечное</td>\n",
       "      <td>2354</td>\n",
       "      <td>нет</td>\n",
       "      <td>201 / 148 при 6800</td>\n",
       "      <td>245 при 3600</td>\n",
       "      <td>рядное</td>\n",
       "      <td>4</td>\n",
       "      <td>4</td>\n",
       "      <td>распределенный впрыск (многоточечный)</td>\n",
       "      <td>11.6</td>\n",
       "      <td>87 × 99</td>\n",
       "      <td>https://auto.ru/catalog/cars/acura/ilx/2146878...</td>\n",
       "      <td></td>\n",
       "    </tr>\n",
       "  </tbody>\n",
       "</table>\n",
       "</div>"
      ],
      "text/plain": [
       "   index  Марка Модель                   Поколение Тип кузова  Цена  \\\n",
       "0      0  Acura    ILX  I Рестайлинг 2 2018 – н.в.      Седан  None   \n",
       "\n",
       "  Страна марки Класс автомобиля Количество дверей Количество мест Длина  \\\n",
       "0       Япония                D                 4               5  4628   \n",
       "\n",
       "  Ширина Высота Колёсная база Клиренс Ширина передней колеи  \\\n",
       "0   1793   1412          2670     135                  1509   \n",
       "\n",
       "  Ширина задней колеи           Размер колёс Объем багажника мин/макс, л  \\\n",
       "0                1529  215/45/R17 225/40/R18                           -   \n",
       "\n",
       "  Объём топливного бака, л Снаряженная масса, кг Коробка передач  \\\n",
       "0                       50                  1405           робот   \n",
       "\n",
       "  Количество передач Тип привода   Тип передней подвески  \\\n",
       "0                  8    передний  независимая, пружинная   \n",
       "\n",
       "      Тип задней подвески        Передние тормоза Задние тормоза  \\\n",
       "0  независимая, пружинная  дисковые вентилируемые       дисковые   \n",
       "\n",
       "  Разгон до 100 км/ч, с Расход топлива, л город/трасса/смешанный  \\\n",
       "0                   7.7                              9.8/6.9/8.4   \n",
       "\n",
       "  Марка топлива Тип двигателя Расположение двигателя Объем двигателя, см³  \\\n",
       "0         АИ-92        бензин   переднее, поперечное                 2354   \n",
       "\n",
       "  Тип наддува Максимальная мощность, л.с./кВт при об/мин  \\\n",
       "0         нет                         201 / 148 при 6800   \n",
       "\n",
       "  Максимальный крутящий момент, Н*м при об/мин Расположение цилиндров  \\\n",
       "0                                 245 при 3600                 рядное   \n",
       "\n",
       "  Количество цилиндров Число клапанов на цилиндр  \\\n",
       "0                    4                         4   \n",
       "\n",
       "               Система питания двигателя Степень сжатия  \\\n",
       "0  распределенный впрыск (многоточечный)           11.6   \n",
       "\n",
       "  Диаметр цилиндра и ход поршня, мм  \\\n",
       "0                           87 × 99   \n",
       "\n",
       "                                              Ссылка Изображение  \n",
       "0  https://auto.ru/catalog/cars/acura/ilx/2146878...              "
      ]
     },
     "execution_count": 9,
     "metadata": {},
     "output_type": "execute_result"
    }
   ],
   "source": [
    "data"
   ]
  },
  {
   "cell_type": "markdown",
   "metadata": {},
   "source": [
    "После этого произвел обработку полученных данных. Например, объем багажника и расход топливо привел к единому виду"
   ]
  },
  {
   "cell_type": "markdown",
   "metadata": {},
   "source": [
    "Далее важные числовые показатели перевел в качественные характеристики. "
   ]
  },
  {
   "cell_type": "markdown",
   "metadata": {},
   "source": [
    "## Пример нахождения расстояний для рекомендации"
   ]
  },
  {
   "cell_type": "code",
   "execution_count": 10,
   "metadata": {},
   "outputs": [],
   "source": [
    "def eucl_dist(x1, x2):\n",
    "    return sum([(x1i - x2i) ** 2 for x1i, x2i in zip (x1, x2)])\n",
    "\n",
    "def manh_dist(x1, x2):\n",
    "    return sum(abs(x1i - x2i) for x1i, x2i in zip(x1, x2))            \n",
    "\n",
    "def recommend(data, car_modificaton, columns_for_dist, mode):\n",
    "    neighbors_list = []\n",
    "    for index in range(data.shape[0]):\n",
    "        data_train_current_x = [x for x in data[columns_for_dist].iloc[index]]\n",
    "        if mode == 'eucl':\n",
    "            dist = eucl_dist([x for x in car_modificaton[columns_for_dist]], data_train_current_x)\n",
    "        elif mode == 'manh':\n",
    "            dist = manh_dist([x for x in car_modificaton[columns_for_dist]], data_train_current_x)\n",
    "        temp_res = (dist, index, data_train_current_x)\n",
    "        neighbors_list.append(temp_res)    \n",
    "    \n",
    "    neighbors_list_sorted = sorted(neighbors_list, key=itemgetter(0))\n",
    "    \n",
    "    real_neighbors_list = []\n",
    "    already_added = []\n",
    "    \n",
    "    for x in neighbors_list_sorted:\n",
    "        if not data['Марка'].iloc[x[1]] == car_modificaton['Марка'] and not data['Модель'].iloc[x[1]] == car_modificaton['Модель'] and (data['Марка'].iloc[x[1]], data['Модель'].iloc[x[1]]) not in already_added:\n",
    "            real_neighbors_list.append((x[1], x[0]))\n",
    "            already_added.append((data['Марка'].iloc[x[1]], data['Модель'].iloc[x[1]]))\n",
    "        if len(real_neighbors_list) == 5:\n",
    "            break\n",
    "    return real_neighbors_list"
   ]
  },
  {
   "cell_type": "code",
   "execution_count": 11,
   "metadata": {},
   "outputs": [],
   "source": [
    "columns = [ \"knn_цена\", \"knn_длина\", \"knn_ширина\",\"knn_высота\", \"knn_бак\",\"knn_скорость\",\"knn_разгон\",\"knn_выбросы\",\n",
    "\"knn_двигатель\",\"knn_клиренс\", \"knn_багажник\",\"knn_расход\", \"knn_наддув_компрессор\",\"knn_наддув_нет\", \n",
    "\"knn_наддув_турбонаддув\",\"knn_страна_Австрия\", \"knn_страна_Великобритания\",\"knn_страна_Германия\", \"knn_страна_Дания\",\n",
    "\"knn_страна_Израиль\", \"knn_страна_Индия\",\"knn_страна_Иран\", \"knn_страна_Испания\",\"knn_страна_Италия\",\n",
    "\"knn_страна_Китай\",\"knn_страна_Малайзия\", \"knn_страна_Нидерланды\",\"knn_страна_Объединённые Арабские Эмираты\",\n",
    "\"knn_страна_Россия\",\"knn_страна_Румыния\", \"knn_страна_США\", \"knn_страна_Тайвань\",\"knn_страна_Узбекистан\", \n",
    "\"knn_страна_Франция\",\"knn_страна_Хорватия\", \"knn_страна_Чехия\",\"knn_страна_Швеция\", \"knn_страна_Южная Корея\", \n",
    "\"knn_страна_Япония\", \"knn_коробка_автомат\", \"knn_коробка_вариатор\", \"knn_коробка_механика\", \"knn_коробка_робот\",\n",
    "\"knn_привод_задний\", \"knn_привод_передний\", \"knn_привод_полный\", \"knn_тип_двигателя_СУГ\",\n",
    "\"knn_тип_двигателя_бензин\", \"knn_тип_двигателя_гибрид\", \"knn_тип_двигателя_дизель\", \"knn_тип_двигателя_электро\",\n",
    "\"knn_класс_A\", \"knn_класс_B\", \"knn_класс_C\", \"knn_класс_D\", \"knn_класс_E\", \"knn_класс_F\", \"knn_класс_J\", \n",
    "\"knn_класс_M\", \"knn_класс_S\", \"knn_эко_Euro 3\", \"knn_эко_Euro 4\", \"knn_эко_Euro 5\", \"knn_эко_Euro 6\",\n",
    "\"Количество дверей\", \"Количество мест\"]\n",
    "\n",
    "full_data = pd.read_csv('data_final.csv')"
   ]
  },
  {
   "cell_type": "code",
   "execution_count": 12,
   "metadata": {},
   "outputs": [],
   "source": [
    "data = pd.read_csv('data_final.csv')"
   ]
  },
  {
   "cell_type": "code",
   "execution_count": 13,
   "metadata": {},
   "outputs": [
    {
     "name": "stdout",
     "output_type": "stream",
     "text": [
      "Audi S5 Кабриолет\n",
      "----------------------------------------------------------------------------------------------------\n",
      "                              Евклидово расстояние|                          Манхэттенское расстояние\n",
      "----------------------------------------------------------------------------------------------------\n",
      "                                0.0 Alpina B4 Купе|                                0.0 Alpina B4 Купе\n",
      "           2.0 Mercedes-Benz C-Класс AMG Кабриолет|           2.0 Mercedes-Benz C-Класс AMG Кабриолет\n",
      "               3.0 Mercedes-Benz C-Класс Кабриолет|                         3.0 BMW 4 серия Кабриолет\n",
      "                              4.0 BMW 4 серия Купе|               3.0 Mercedes-Benz C-Класс Кабриолет\n",
      "                              5.0 BMW 8 серия Купе|                               5.0 Alpina B3 Седан\n",
      "____________________________________________________________________________________________________\n"
     ]
    }
   ],
   "source": [
    "for index in range(data.shape[0])[554:555]:\n",
    "    print(data.at[index, 'Марка'], data.at[index, 'Модель'], data.at[index, 'Тип кузова'])\n",
    "    print(100*'-')\n",
    "    print('{:>50}|{:>50}'.format('Евклидово расстояние', 'Манхэттенское расстояние'))\n",
    "    print(100*'-')\n",
    "    eucl_recommend = recommend(data, data.iloc[index], columns, 'eucl')\n",
    "    manh_recommend = recommend(data, data.iloc[index], columns, 'manh')\n",
    "    for x, y in zip(eucl_recommend, manh_recommend):\n",
    "        print('{:>50}|{:>50}'.format(str(x[1])+' '+str(data.at[x[0], 'Марка'])+' '+str(data.at[x[0], 'Модель'])+' '+str(data.at[x[0], 'Тип кузова']), str(y[1])+' '+str(data.at[y[0], 'Марка'])+' '+str(data.at[y[0], 'Модель'])+' '+str(data.at[y[0], 'Тип кузова'])))\n",
    "    print(100*'_')"
   ]
  },
  {
   "cell_type": "code",
   "execution_count": null,
   "metadata": {},
   "outputs": [],
   "source": []
  }
 ],
 "metadata": {
  "kernelspec": {
   "display_name": "Python 3",
   "language": "python",
   "name": "python3"
  },
  "language_info": {
   "codemirror_mode": {
    "name": "ipython",
    "version": 3
   },
   "file_extension": ".py",
   "mimetype": "text/x-python",
   "name": "python",
   "nbconvert_exporter": "python",
   "pygments_lexer": "ipython3",
   "version": "3.7.6"
  }
 },
 "nbformat": 4,
 "nbformat_minor": 4
}
